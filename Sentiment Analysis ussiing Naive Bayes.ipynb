{
 "cells": [
  {
   "cell_type": "code",
   "execution_count": 1,
   "id": "3392381a",
   "metadata": {},
   "outputs": [],
   "source": [
    "import numpy as np\n",
    "import pandas as pd"
   ]
  },
  {
   "cell_type": "code",
   "execution_count": 3,
   "id": "205fa328",
   "metadata": {},
   "outputs": [],
   "source": [
    "df = pd.read_csv('IMDB Dataset.csv')"
   ]
  },
  {
   "cell_type": "code",
   "execution_count": 5,
   "id": "f48f7e20",
   "metadata": {},
   "outputs": [
    {
     "data": {
      "text/html": [
       "<div>\n",
       "<style scoped>\n",
       "    .dataframe tbody tr th:only-of-type {\n",
       "        vertical-align: middle;\n",
       "    }\n",
       "\n",
       "    .dataframe tbody tr th {\n",
       "        vertical-align: top;\n",
       "    }\n",
       "\n",
       "    .dataframe thead th {\n",
       "        text-align: right;\n",
       "    }\n",
       "</style>\n",
       "<table border=\"1\" class=\"dataframe\">\n",
       "  <thead>\n",
       "    <tr style=\"text-align: right;\">\n",
       "      <th></th>\n",
       "      <th>review</th>\n",
       "      <th>sentiment</th>\n",
       "    </tr>\n",
       "  </thead>\n",
       "  <tbody>\n",
       "    <tr>\n",
       "      <th>0</th>\n",
       "      <td>One of the other reviewers has mentioned that ...</td>\n",
       "      <td>positive</td>\n",
       "    </tr>\n",
       "    <tr>\n",
       "      <th>1</th>\n",
       "      <td>A wonderful little production. &lt;br /&gt;&lt;br /&gt;The...</td>\n",
       "      <td>positive</td>\n",
       "    </tr>\n",
       "    <tr>\n",
       "      <th>2</th>\n",
       "      <td>I thought this was a wonderful way to spend ti...</td>\n",
       "      <td>positive</td>\n",
       "    </tr>\n",
       "    <tr>\n",
       "      <th>3</th>\n",
       "      <td>Basically there's a family where a little boy ...</td>\n",
       "      <td>negative</td>\n",
       "    </tr>\n",
       "    <tr>\n",
       "      <th>4</th>\n",
       "      <td>Petter Mattei's \"Love in the Time of Money\" is...</td>\n",
       "      <td>positive</td>\n",
       "    </tr>\n",
       "  </tbody>\n",
       "</table>\n",
       "</div>"
      ],
      "text/plain": [
       "                                              review sentiment\n",
       "0  One of the other reviewers has mentioned that ...  positive\n",
       "1  A wonderful little production. <br /><br />The...  positive\n",
       "2  I thought this was a wonderful way to spend ti...  positive\n",
       "3  Basically there's a family where a little boy ...  negative\n",
       "4  Petter Mattei's \"Love in the Time of Money\" is...  positive"
      ]
     },
     "execution_count": 5,
     "metadata": {},
     "output_type": "execute_result"
    }
   ],
   "source": [
    "df.head()"
   ]
  },
  {
   "cell_type": "code",
   "execution_count": 7,
   "id": "21f113aa",
   "metadata": {},
   "outputs": [
    {
     "data": {
      "text/plain": [
       "\"One of the other reviewers has mentioned that after watching just 1 Oz episode you'll be hooked. They are right, as this is exactly what happened with me.<br /><br />The first thing that struck me about Oz was its brutality and unflinching scenes of violence, which set in right from the word GO. Trust me, this is not a show for the faint hearted or timid. This show pulls no punches with regards to drugs, sex or violence. Its is hardcore, in the classic use of the word.<br /><br />It is called OZ as that is the nickname given to the Oswald Maximum Security State Penitentary. It focuses mainly on Emerald City, an experimental section of the prison where all the cells have glass fronts and face inwards, so privacy is not high on the agenda. Em City is home to many..Aryans, Muslims, gangstas, Latinos, Christians, Italians, Irish and more....so scuffles, death stares, dodgy dealings and shady agreements are never far away.<br /><br />I would say the main appeal of the show is due to the fact that it goes where other shows wouldn't dare. Forget pretty pictures painted for mainstream audiences, forget charm, forget romance...OZ doesn't mess around. The first episode I ever saw struck me as so nasty it was surreal, I couldn't say I was ready for it, but as I watched more, I developed a taste for Oz, and got accustomed to the high levels of graphic violence. Not just violence, but injustice (crooked guards who'll be sold out for a nickel, inmates who'll kill on order and get away with it, well mannered, middle class inmates being turned into prison bitches due to their lack of street skills or prison experience) Watching Oz, you may become comfortable with what is uncomfortable viewing....thats if you can get in touch with your darker side.\""
      ]
     },
     "execution_count": 7,
     "metadata": {},
     "output_type": "execute_result"
    }
   ],
   "source": [
    "# one review\n",
    "df['review'][0]"
   ]
  },
  {
   "cell_type": "markdown",
   "id": "3329735a",
   "metadata": {},
   "source": [
    "## Text Cleaning\n",
    "1. Sample 10000 rows\n",
    "2. Remove html tag\n",
    "3. Remove special characters.\n",
    "4. convert them into lower case \n",
    "5. Removing Stop words\n",
    "6. stemming"
   ]
  },
  {
   "cell_type": "code",
   "execution_count": 9,
   "id": "611876ac",
   "metadata": {},
   "outputs": [],
   "source": [
    "df = df.sample(10000)"
   ]
  },
  {
   "cell_type": "code",
   "execution_count": 11,
   "id": "15296b20",
   "metadata": {},
   "outputs": [
    {
     "data": {
      "text/plain": [
       "(10000, 2)"
      ]
     },
     "execution_count": 11,
     "metadata": {},
     "output_type": "execute_result"
    }
   ],
   "source": [
    "df.shape"
   ]
  },
  {
   "cell_type": "code",
   "execution_count": 13,
   "id": "a4f04f23",
   "metadata": {},
   "outputs": [
    {
     "data": {
      "text/plain": [
       "array(['negative', 'positive'], dtype=object)"
      ]
     },
     "execution_count": 13,
     "metadata": {},
     "output_type": "execute_result"
    }
   ],
   "source": [
    "df['sentiment'].unique()"
   ]
  },
  {
   "cell_type": "code",
   "execution_count": 12,
   "id": "12b97f9e",
   "metadata": {
    "scrolled": true
   },
   "outputs": [
    {
     "name": "stdout",
     "output_type": "stream",
     "text": [
      "<class 'pandas.core.frame.DataFrame'>\n",
      "Int64Index: 10000 entries, 40960 to 26591\n",
      "Data columns (total 2 columns):\n",
      " #   Column     Non-Null Count  Dtype \n",
      "---  ------     --------------  ----- \n",
      " 0   review     10000 non-null  object\n",
      " 1   sentiment  10000 non-null  object\n",
      "dtypes: object(2)\n",
      "memory usage: 234.4+ KB\n"
     ]
    }
   ],
   "source": [
    "df.info()"
   ]
  },
  {
   "cell_type": "code",
   "execution_count": 14,
   "id": "250f216f",
   "metadata": {},
   "outputs": [],
   "source": [
    "df['sentiment'].replace({'positive':1,'negative':0},inplace=True)"
   ]
  },
  {
   "cell_type": "code",
   "execution_count": 15,
   "id": "d07ba154",
   "metadata": {},
   "outputs": [
    {
     "data": {
      "text/html": [
       "<div>\n",
       "<style scoped>\n",
       "    .dataframe tbody tr th:only-of-type {\n",
       "        vertical-align: middle;\n",
       "    }\n",
       "\n",
       "    .dataframe tbody tr th {\n",
       "        vertical-align: top;\n",
       "    }\n",
       "\n",
       "    .dataframe thead th {\n",
       "        text-align: right;\n",
       "    }\n",
       "</style>\n",
       "<table border=\"1\" class=\"dataframe\">\n",
       "  <thead>\n",
       "    <tr style=\"text-align: right;\">\n",
       "      <th></th>\n",
       "      <th>review</th>\n",
       "      <th>sentiment</th>\n",
       "    </tr>\n",
       "  </thead>\n",
       "  <tbody>\n",
       "    <tr>\n",
       "      <th>40960</th>\n",
       "      <td>Bad Actors, bad filming, choppy dialog, shallo...</td>\n",
       "      <td>0</td>\n",
       "    </tr>\n",
       "    <tr>\n",
       "      <th>47955</th>\n",
       "      <td>Okay, that was a pretty damn good episode. Muc...</td>\n",
       "      <td>1</td>\n",
       "    </tr>\n",
       "    <tr>\n",
       "      <th>34469</th>\n",
       "      <td>New York City houses one man above all others,...</td>\n",
       "      <td>1</td>\n",
       "    </tr>\n",
       "    <tr>\n",
       "      <th>49768</th>\n",
       "      <td>Ken Harrison, a young sculptor in his early th...</td>\n",
       "      <td>0</td>\n",
       "    </tr>\n",
       "    <tr>\n",
       "      <th>21563</th>\n",
       "      <td>There is a complete copy now available at the ...</td>\n",
       "      <td>1</td>\n",
       "    </tr>\n",
       "  </tbody>\n",
       "</table>\n",
       "</div>"
      ],
      "text/plain": [
       "                                                  review  sentiment\n",
       "40960  Bad Actors, bad filming, choppy dialog, shallo...          0\n",
       "47955  Okay, that was a pretty damn good episode. Muc...          1\n",
       "34469  New York City houses one man above all others,...          1\n",
       "49768  Ken Harrison, a young sculptor in his early th...          0\n",
       "21563  There is a complete copy now available at the ...          1"
      ]
     },
     "execution_count": 15,
     "metadata": {},
     "output_type": "execute_result"
    }
   ],
   "source": [
    "df.head()"
   ]
  },
  {
   "cell_type": "code",
   "execution_count": 17,
   "id": "148857d9",
   "metadata": {},
   "outputs": [
    {
     "data": {
      "text/plain": [
       "'New York City houses one man above all others, the possibly immortal Dr. Anton Mordrid. Mordrid is the sworn protector of humanity, using his magical powers to keep his brother and rival, Kabal, chained up so that he may not enslave the human race. Well, wouldn\\'t you know it? A prophesy comes true and Kabal breaks free, and begins collecting elements (including platinum and uranium) for his alchemy experiments. With the help of a police woman named Sam, can Mordrid defeat his evil brother? \"Dr. Mordrid\" comes to me courtesy of Charles Band in the Full Moon Archive Collection. I had not heard of it, which is a bit odd given that I\\'m a big fan of Jeffrey Combs (Mordrid) and the film isn\\'t that old. But now it\\'s mine and I can enjoy it again and again. The film certainly is fun in the classic Full Moon style. Richard Band provides the music (which doesn\\'t differ much from all his other scores) and Brian Thompson plays the evil Kabal. We even have animated dinosaur bones! What more do you want? Of course, the cheese factor is high. I felt much of the film was a rip-off of the Dr. Strange comics. And the blue pantsuit was silly. And plot holes are everywhere (I could list at least five, but why bother). And why does the ancient symbol of Mordrid and Kabal look suspiciously like a hammer and sickle? Combs has never been a strong actor, so he fits right in with the cheese. These aren\\'t complaints. Full Moon fans have come to expect these things and devour them like crack-laced Grape Nuts. I\\'m guilty... I loved this film.<br /><br />If you\\'re not a Full Moon fan, or a Jeffrey Combs fan... you may want to look elsewhere. But if you like the early 1990s style of movie-making and haircuts, you\\'ll eat this up. Stallone and Schwarzenegger fans might like seeing Brian Thompson as a villain, looking as goony as ever and not being able to enunciate English beyond a third grade level. I did. I wish there was a \"Mordrid II\", but the company that makes a sequel to practically everything (is \"Gingerdead Man 3\" really necessary?) passed on this one.'"
      ]
     },
     "execution_count": 17,
     "metadata": {},
     "output_type": "execute_result"
    }
   ],
   "source": [
    "df.iloc[2]['review']"
   ]
  },
  {
   "cell_type": "code",
   "execution_count": 19,
   "id": "9feaa12a",
   "metadata": {},
   "outputs": [
    {
     "data": {
      "text/plain": [
       "'New York City houses one man above all others, the possibly immortal Dr. Anton Mordrid. Mordrid is the sworn protector of humanity, using his magical powers to keep his brother and rival, Kabal, chained up so that he may not enslave the human race. Well, wouldn\\'t you know it? A prophesy comes true and Kabal breaks free, and begins collecting elements (including platinum and uranium) for his alchemy experiments. With the help of a police woman named Sam, can Mordrid defeat his evil brother? \"Dr. Mordrid\" comes to me courtesy of Charles Band in the Full Moon Archive Collection. I had not heard of it, which is a bit odd given that I\\'m a big fan of Jeffrey Combs (Mordrid) and the film isn\\'t that old. But now it\\'s mine and I can enjoy it again and again. The film certainly is fun in the classic Full Moon style. Richard Band provides the music (which doesn\\'t differ much from all his other scores) and Brian Thompson plays the evil Kabal. We even have animated dinosaur bones! What more do you want? Of course, the cheese factor is high. I felt much of the film was a rip-off of the Dr. Strange comics. And the blue pantsuit was silly. And plot holes are everywhere (I could list at least five, but why bother). And why does the ancient symbol of Mordrid and Kabal look suspiciously like a hammer and sickle? Combs has never been a strong actor, so he fits right in with the cheese. These aren\\'t complaints. Full Moon fans have come to expect these things and devour them like crack-laced Grape Nuts. I\\'m guilty... I loved this film.If you\\'re not a Full Moon fan, or a Jeffrey Combs fan... you may want to look elsewhere. But if you like the early 1990s style of movie-making and haircuts, you\\'ll eat this up. Stallone and Schwarzenegger fans might like seeing Brian Thompson as a villain, looking as goony as ever and not being able to enunciate English beyond a third grade level. I did. I wish there was a \"Mordrid II\", but the company that makes a sequel to practically everything (is \"Gingerdead Man 3\" really necessary?) passed on this one.'"
      ]
     },
     "execution_count": 19,
     "metadata": {},
     "output_type": "execute_result"
    }
   ],
   "source": [
    "# Removing html tag for one review only.\n",
    "import re\n",
    "clean_pattern = re.compile('<.*?>')\n",
    "re.sub(clean_pattern,'',df.iloc[2]['review'])"
   ]
  },
  {
   "cell_type": "code",
   "execution_count": 20,
   "id": "2ec6d0e8",
   "metadata": {},
   "outputs": [],
   "source": [
    "def clean_html(text):\n",
    "    clean_pattern = re.compile('<.*?>')\n",
    "    return re.sub(clean_pattern,'',text)"
   ]
  },
  {
   "cell_type": "code",
   "execution_count": 22,
   "id": "b61cee48",
   "metadata": {},
   "outputs": [],
   "source": [
    "df['review'] = df['review'].apply(clean_html)"
   ]
  },
  {
   "cell_type": "code",
   "execution_count": 25,
   "id": "1deaeb70",
   "metadata": {},
   "outputs": [],
   "source": [
    "# Convering each review into the lower case.\n",
    "df['review'] = df['review'].str.lower()"
   ]
  },
  {
   "cell_type": "code",
   "execution_count": 31,
   "id": "c94212be",
   "metadata": {},
   "outputs": [],
   "source": [
    "# function to remove special characters\n",
    "def remove_special_char(text):\n",
    "    new_text=''\n",
    "    for char in text:\n",
    "        if char.isalnum():\n",
    "            new_text+=char\n",
    "        else:\n",
    "            new_text+=' '\n",
    "            \n",
    "    return new_text"
   ]
  },
  {
   "cell_type": "code",
   "execution_count": 32,
   "id": "0026e8b1",
   "metadata": {},
   "outputs": [
    {
     "data": {
      "text/plain": [
       "' th e   classic use of the word it is called oz as that is the nickname given to the oswald maximum security state penitentary '"
      ]
     },
     "execution_count": 32,
     "metadata": {},
     "output_type": "execute_result"
    }
   ],
   "source": [
    "remove_special_char(' th%e @ classic use of the word.it is called oz as that is the nickname given to the oswald maximum security state penitentary.')"
   ]
  },
  {
   "cell_type": "code",
   "execution_count": 34,
   "id": "1a1a43e8",
   "metadata": {},
   "outputs": [],
   "source": [
    "df['review']=df['review'].apply(remove_special_char)"
   ]
  }
 ],
 "metadata": {
  "kernelspec": {
   "display_name": "Python 3 (ipykernel)",
   "language": "python",
   "name": "python3"
  },
  "language_info": {
   "codemirror_mode": {
    "name": "ipython",
    "version": 3
   },
   "file_extension": ".py",
   "mimetype": "text/x-python",
   "name": "python",
   "nbconvert_exporter": "python",
   "pygments_lexer": "ipython3",
   "version": "3.9.13"
  }
 },
 "nbformat": 4,
 "nbformat_minor": 5
}
